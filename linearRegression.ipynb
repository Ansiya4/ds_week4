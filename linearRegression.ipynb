{
 "cells": [
  {
   "cell_type": "code",
   "execution_count": 3,
   "id": "34599cfe-7054-4e7b-a780-c95802ddf641",
   "metadata": {},
   "outputs": [],
   "source": [
    "# Sample data\n",
    "X = [1, 2, 3, 4, 5]  # Input feature\n",
    "y = [2, 4, 5, 4, 5]  # Target variable"
   ]
  },
  {
   "cell_type": "code",
   "execution_count": 4,
   "id": "d3553983-4971-4ba6-b7a0-cb9e7d05e6b0",
   "metadata": {},
   "outputs": [],
   "source": [
    "# Calculate the mean of X and y\n",
    "mean_X = sum(X) / len(X)\n",
    "mean_y = sum(y) / len(y)"
   ]
  },
  {
   "cell_type": "markdown",
   "id": "77b8c0d3-abd1-4823-bc24-1ab658a15352",
   "metadata": {},
   "source": [
    "## calculate the slope and intercept of the linear regression model using the formulas:"
   ]
  },
  {
   "cell_type": "code",
   "execution_count": 6,
   "id": "f844eec9-1b92-4dae-8497-e79ec55e4f1b",
   "metadata": {},
   "outputs": [
    {
     "name": "stdout",
     "output_type": "stream",
     "text": [
      "Slope: 0.6\n",
      "Intercept: 2.2\n"
     ]
    }
   ],
   "source": [
    "slope = numerator / denominator\n",
    "intercept = mean_y - slope * mean_X\n",
    "\n",
    "# Print the coefficients\n",
    "print(\"Slope:\", slope)\n",
    "print(\"Intercept:\", intercept)"
   ]
  },
  {
   "cell_type": "code",
   "execution_count": 7,
   "id": "0f26335a-ec85-482c-ac44-1bd0b3588277",
   "metadata": {},
   "outputs": [
    {
     "name": "stdout",
     "output_type": "stream",
     "text": [
      "Predicted y for x = 6 is 5.8\n"
     ]
    }
   ],
   "source": [
    "# Predict using the linear regression model\n",
    "new_x = 6\n",
    "predicted_y = slope * new_x + intercept\n",
    "print(\"Predicted y for x =\", new_x, \"is\", predicted_y)"
   ]
  },
  {
   "cell_type": "code",
   "execution_count": null,
   "id": "6a9142b3-72cf-4ab8-b7cc-8d0302586df3",
   "metadata": {},
   "outputs": [],
   "source": []
  }
 ],
 "metadata": {
  "kernelspec": {
   "display_name": "Python 3 (ipykernel)",
   "language": "python",
   "name": "python3"
  },
  "language_info": {
   "codemirror_mode": {
    "name": "ipython",
    "version": 3
   },
   "file_extension": ".py",
   "mimetype": "text/x-python",
   "name": "python",
   "nbconvert_exporter": "python",
   "pygments_lexer": "ipython3",
   "version": "3.10.10"
  }
 },
 "nbformat": 4,
 "nbformat_minor": 5
}
